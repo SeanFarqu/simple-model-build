{
 "cells": [
  {
   "cell_type": "markdown",
   "id": "82c661df",
   "metadata": {},
   "source": [
    "### Imports"
   ]
  },
  {
   "cell_type": "code",
   "execution_count": 45,
   "id": "11569d92",
   "metadata": {},
   "outputs": [],
   "source": [
    "# Imports\n",
    "import pandas as pd\n",
    "from sklearn.model_selection import train_test_split\n",
    "from sklearn.preprocessing import StandardScaler, LabelEncoder, OneHotEncoder\n",
    "from sklearn.impute import SimpleImputer\n",
    "from sklearn.metrics import classification_report, roc_auc_score, accuracy_score, precision_score, recall_score, f1_score, confusion_matrix\n",
    "from sklearn.linear_model import LogisticRegression\n",
    "from sklearn.ensemble import RandomForestClassifier\n",
    "from sklearn.svm import SVC\n",
    "import xgboost as xgb\n",
    "import lightgbm as lgb\n",
    "from catboost import CatBoostClassifier\n",
    "from imblearn.over_sampling import SMOTE\n",
    "\n",
    "import matplotlib.pyplot as plt\n",
    "\n",
    "# Display all columns\n",
    "pd.set_option('display.max_columns', None)\n",
    "# Display all rows\n",
    "pd.set_option('display.max_rows', None)"
   ]
  },
  {
   "cell_type": "markdown",
   "id": "89f49da7",
   "metadata": {},
   "source": [
    "A right-handed pitcher is curious about how velocity, movement, and spin rates on fastballs affect the chances of batters putting the ball in play. Attached are two CSV files. Both files contain 10,000 random pitches of fastballs thrown in the strike zone by right-handed pitchers to right-handed batters (swings and takes are both included). One of them (training.csv) also includes whether the batter was able to put the ball in play.\n",
    "\n",
    "\n",
    "The columns are:\n",
    "\n",
    "- InPlay – A binary column indicating if the batter put the ball in play (1 = in play, 0 = not in play)\n",
    "- Velo – The velocity of the pitch at release (in mph)\n",
    "- SpinRate – The Spin Rate of the pitch at release (in rpm)\n",
    "- HorzBreak – The amount of movement the pitch had in the horizontal direction (in inches)\n",
    "- InducedVertBreak – The amount of movement (in inches) the pitch had in the vertical direction after accounting for the effects of gravity. A positive value means the pitch would move up in a gravity-free environment that still had the same air resistance."
   ]
  },
  {
   "cell_type": "markdown",
   "id": "00ea493f",
   "metadata": {},
   "source": [
    "##### Question 1"
   ]
  },
  {
   "cell_type": "markdown",
   "id": "5afe41b8",
   "metadata": {},
   "source": [
    "Predict the chance of a pitch being put in play. Please use this model to predict the chance of each pitch in the “deploy.csv” file being put in play and return a CSV with your predictions."
   ]
  },
  {
   "cell_type": "markdown",
   "id": "61b79b59",
   "metadata": {},
   "source": [
    "##### Data"
   ]
  },
  {
   "cell_type": "code",
   "execution_count": 17,
   "id": "b137c79b",
   "metadata": {},
   "outputs": [],
   "source": [
    "# Load the data\n",
    "df_train = pd.read_csv('training.csv')"
   ]
  },
  {
   "cell_type": "markdown",
   "id": "ed705e54",
   "metadata": {},
   "source": [
    "##### missing"
   ]
  },
  {
   "cell_type": "code",
   "execution_count": 18,
   "id": "09100fcf",
   "metadata": {},
   "outputs": [
    {
     "name": "stdout",
     "output_type": "stream",
     "text": [
      "\n",
      "There are missing values in the dataset.\n"
     ]
    }
   ],
   "source": [
    "# Check if there are any missing values in the entire dataset\n",
    "if df_train.isnull().any().any():\n",
    "    print(\"\\nThere are missing values in the dataset.\")\n",
    "else:\n",
    "    print(\"\\nThere are no missing values in the dataset.\")"
   ]
  },
  {
   "cell_type": "code",
   "execution_count": 20,
   "id": "85f4197d",
   "metadata": {},
   "outputs": [
    {
     "name": "stdout",
     "output_type": "stream",
     "text": [
      "Number of missing values in each column:\n",
      "InPlay              0\n",
      "Velo                0\n",
      "SpinRate            6\n",
      "HorzBreak           0\n",
      "InducedVertBreak    0\n",
      "dtype: int64\n"
     ]
    }
   ],
   "source": [
    "# Check for missing values in each column\n",
    "missing_values = df_train.isnull().sum()\n",
    "\n",
    "print(\"Number of missing values in each column:\")\n",
    "print(missing_values)"
   ]
  },
  {
   "cell_type": "code",
   "execution_count": 21,
   "id": "aeb7d8da",
   "metadata": {},
   "outputs": [
    {
     "name": "stdout",
     "output_type": "stream",
     "text": [
      "There are 10000 rows in the training.csv file.\n"
     ]
    }
   ],
   "source": [
    "# Print the number of rows\n",
    "print(f\"There are {len(df_train)} rows in the training.csv file.\")"
   ]
  },
  {
   "cell_type": "code",
   "execution_count": 24,
   "id": "3c8ed0b1",
   "metadata": {},
   "outputs": [
    {
     "name": "stdout",
     "output_type": "stream",
     "text": [
      "The std of the SpinRate column is: 196.04\n"
     ]
    }
   ],
   "source": [
    "# Calculate and print the variance of the SpinRate column\n",
    "spin_rate_variance = df_train['SpinRate'].std()\n",
    "print(f\"The std of the SpinRate column is: {spin_rate_variance:.2f}\")"
   ]
  },
  {
   "cell_type": "markdown",
   "id": "cdb5d3c3",
   "metadata": {},
   "source": [
    "Since there are only 6 missing values and 10,000 rows of data, I am going to opt to not use imputation and delete these 6 rows from our training data. Even though boosting algos typically handle this on their own, I am going to do it for completeness of my modeling process."
   ]
  },
  {
   "cell_type": "code",
   "execution_count": 25,
   "id": "ad65f938",
   "metadata": {},
   "outputs": [
    {
     "name": "stdout",
     "output_type": "stream",
     "text": [
      "6 rows have been removed due to missing values.\n"
     ]
    }
   ],
   "source": [
    "# Store the initial number of rows\n",
    "initial_row_count = len(df_train)\n",
    "\n",
    "# Remove rows with missing values\n",
    "df_train_clean = df_train.dropna()\n",
    "\n",
    "# Calculate how many rows have been removed\n",
    "rows_removed = initial_row_count - len(df_train_clean)\n",
    "\n",
    "print(f\"{rows_removed} rows have been removed due to missing values.\")"
   ]
  },
  {
   "cell_type": "markdown",
   "id": "cc8df2e5",
   "metadata": {},
   "source": [
    "##### Preprocess"
   ]
  },
  {
   "cell_type": "code",
   "execution_count": 26,
   "id": "1fc1e1fd",
   "metadata": {},
   "outputs": [
    {
     "name": "stdout",
     "output_type": "stream",
     "text": [
      "Distribution of y_train before SMOTE: 0    5811\n",
      "1    2184\n",
      "Name: InPlay, dtype: int64\n",
      "Distribution of y_train after SMOTE: 0    5811\n",
      "1    5811\n",
      "Name: InPlay, dtype: int64\n"
     ]
    }
   ],
   "source": [
    "# Separate predictors and target variable\n",
    "X = df_train_clean.drop(columns=['InPlay'])\n",
    "y = df_train_clean['InPlay']\n",
    "\n",
    "# Split the data into training and testing sets\n",
    "X_train, X_test, y_train, y_test = train_test_split(X, y, test_size=0.2, random_state=42)\n",
    "\n",
    "# Normalizing the data\n",
    "scaler = StandardScaler()\n",
    "X_train_normalized = scaler.fit_transform(X_train)\n",
    "X_test_normalized = scaler.transform(X_test)\n",
    "\n",
    "# Apply SMOTE to the training data\n",
    "smote = SMOTE(random_state=42)\n",
    "X_train_resampled, y_train_resampled = smote.fit_resample(X_train_normalized, y_train)\n",
    "\n",
    "# Check the distribution of the target variable after SMOTE\n",
    "print(\"Distribution of y_train before SMOTE:\", y_train.value_counts())\n",
    "print(\"Distribution of y_train after SMOTE:\", y_train_resampled.value_counts())\n"
   ]
  },
  {
   "cell_type": "markdown",
   "id": "7a6f5127",
   "metadata": {},
   "source": [
    "##### Train and Evaluate - ROC AUC"
   ]
  },
  {
   "cell_type": "code",
   "execution_count": 29,
   "id": "88ce0985",
   "metadata": {},
   "outputs": [
    {
     "name": "stdout",
     "output_type": "stream",
     "text": [
      "Results for Logistic Regression:\n",
      "\n",
      "              precision    recall  f1-score   support\n",
      "\n",
      "           0       0.78      0.62      0.69      1467\n",
      "           1       0.33      0.51      0.40       532\n",
      "\n",
      "    accuracy                           0.59      1999\n",
      "   macro avg       0.55      0.56      0.54      1999\n",
      "weighted avg       0.66      0.59      0.61      1999\n",
      "\n",
      "ROC AUC Score: 0.5847748204867997\n",
      "---------------------------\n",
      "\n",
      "Results for Random Forest:\n",
      "\n",
      "              precision    recall  f1-score   support\n",
      "\n",
      "           0       0.75      0.74      0.75      1467\n",
      "           1       0.31      0.31      0.31       532\n",
      "\n",
      "    accuracy                           0.63      1999\n",
      "   macro avg       0.53      0.53      0.53      1999\n",
      "weighted avg       0.63      0.63      0.63      1999\n",
      "\n",
      "ROC AUC Score: 0.5542614204222212\n",
      "---------------------------\n",
      "\n",
      "Results for SVM:\n",
      "\n",
      "              precision    recall  f1-score   support\n",
      "\n",
      "           0       0.78      0.63      0.70      1467\n",
      "           1       0.33      0.52      0.41       532\n",
      "\n",
      "    accuracy                           0.60      1999\n",
      "   macro avg       0.56      0.57      0.55      1999\n",
      "weighted avg       0.66      0.60      0.62      1999\n",
      "\n",
      "ROC AUC Score: 0.5952784568783923\n",
      "---------------------------\n",
      "\n",
      "Results for Gradient Boosted Trees (XGBoost):\n",
      "\n",
      "              precision    recall  f1-score   support\n",
      "\n",
      "           0       0.75      0.63      0.69      1467\n",
      "           1       0.30      0.43      0.35       532\n",
      "\n",
      "    accuracy                           0.58      1999\n",
      "   macro avg       0.52      0.53      0.52      1999\n",
      "weighted avg       0.63      0.58      0.60      1999\n",
      "\n",
      "ROC AUC Score: 0.5488773057387846\n",
      "---------------------------\n",
      "\n",
      "Results for Gradient Boosted Trees (LightGBM):\n",
      "\n",
      "              precision    recall  f1-score   support\n",
      "\n",
      "           0       0.76      0.63      0.69      1467\n",
      "           1       0.31      0.45      0.37       532\n",
      "\n",
      "    accuracy                           0.58      1999\n",
      "   macro avg       0.53      0.54      0.53      1999\n",
      "weighted avg       0.64      0.58      0.60      1999\n",
      "\n",
      "ROC AUC Score: 0.5654210936338803\n",
      "---------------------------\n",
      "\n",
      "Results for Gradient Boosted Trees (CatBoost):\n",
      "\n",
      "              precision    recall  f1-score   support\n",
      "\n",
      "           0       0.77      0.65      0.70      1467\n",
      "           1       0.32      0.46      0.38       532\n",
      "\n",
      "    accuracy                           0.60      1999\n",
      "   macro avg       0.54      0.55      0.54      1999\n",
      "weighted avg       0.65      0.60      0.62      1999\n",
      "\n",
      "ROC AUC Score: 0.5703394478015078\n",
      "---------------------------\n",
      "\n",
      "The best model is: SVM with ROC AUC: 0.5953\n"
     ]
    }
   ],
   "source": [
    "# Training & Evaluating models\n",
    "models = {\n",
    "    'Logistic Regression': (LogisticRegression(max_iter=1000), X_train_resampled, X_test_normalized),\n",
    "    'Random Forest': (RandomForestClassifier(), X_train_resampled, X_test_normalized),\n",
    "    'SVM': (SVC(probability=True), X_train_resampled, X_test_normalized),\n",
    "    'Gradient Boosted Trees (XGBoost)': (xgb.XGBClassifier(), X_train_resampled, X_test_normalized),\n",
    "    'Gradient Boosted Trees (LightGBM)': (lgb.LGBMClassifier(), X_train_resampled, X_test_normalized),\n",
    "    'Gradient Boosted Trees (CatBoost)': (CatBoostClassifier(silent=True), X_train_resampled, X_test_normalized)\n",
    "}\n",
    "\n",
    "results = {}\n",
    "for name, (model, X_train_model, X_test_model) in models.items():\n",
    "    model.fit(X_train_model, y_train_resampled)  \n",
    "    y_pred = model.predict(X_test_model)\n",
    "    y_prob = model.predict_proba(X_test_model)[:, 1]\n",
    "    \n",
    "    accuracy = accuracy_score(y_test, y_pred)\n",
    "    precision = precision_score(y_test, y_pred)\n",
    "    recall = recall_score(y_test, y_pred)\n",
    "    auc = roc_auc_score(y_test, y_prob)\n",
    "    \n",
    "    results[name] = [accuracy, precision, recall, auc]\n",
    "    print(f\"Results for {name}:\\n\")\n",
    "    print(classification_report(y_test, y_pred))\n",
    "    print(\"ROC AUC Score:\", auc)\n",
    "    print(\"---------------------------\\n\")\n",
    "\n",
    "# Select model\n",
    "best_model_name = max(results, key=lambda k: results[k][3])\n",
    "best_model, _, _ = models[best_model_name]\n",
    "print(f\"The best model is: {best_model_name} with ROC AUC: {results[best_model_name][3]:.4f}\")"
   ]
  },
  {
   "cell_type": "markdown",
   "id": "a5bf4876",
   "metadata": {},
   "source": [
    "##### Train and Evaluate - F1 Score"
   ]
  },
  {
   "cell_type": "code",
   "execution_count": 33,
   "id": "e0b8f462",
   "metadata": {},
   "outputs": [
    {
     "name": "stdout",
     "output_type": "stream",
     "text": [
      "Results for Logistic Regression:\n",
      "\n",
      "Confusion Matrix:\n",
      " [[913 554]\n",
      " [262 270]]\n",
      "\n",
      "Precision: 0.3276699029126214\n",
      "Recall: 0.5075187969924813\n",
      "F1 Score: 0.3982300884955753\n",
      "---------------------------\n",
      "\n",
      "Results for Random Forest:\n",
      "\n",
      "Confusion Matrix:\n",
      " [[1086  381]\n",
      " [ 371  161]]\n",
      "\n",
      "Precision: 0.29704797047970477\n",
      "Recall: 0.3026315789473684\n",
      "F1 Score: 0.2998137802607076\n",
      "---------------------------\n",
      "\n",
      "Results for SVM:\n",
      "\n",
      "Confusion Matrix:\n",
      " [[919 548]\n",
      " [256 276]]\n",
      "\n",
      "Precision: 0.33495145631067963\n",
      "Recall: 0.518796992481203\n",
      "F1 Score: 0.4070796460176991\n",
      "---------------------------\n",
      "\n",
      "Results for Gradient Boosted Trees (XGBoost):\n",
      "\n",
      "Confusion Matrix:\n",
      " [[923 544]\n",
      " [304 228]]\n",
      "\n",
      "Precision: 0.29533678756476683\n",
      "Recall: 0.42857142857142855\n",
      "F1 Score: 0.3496932515337423\n",
      "---------------------------\n",
      "\n",
      "Results for Gradient Boosted Trees (LightGBM):\n",
      "\n",
      "Confusion Matrix:\n",
      " [[925 542]\n",
      " [292 240]]\n",
      "\n",
      "Precision: 0.3069053708439898\n",
      "Recall: 0.45112781954887216\n",
      "F1 Score: 0.36529680365296807\n",
      "---------------------------\n",
      "\n",
      "Results for Gradient Boosted Trees (CatBoost):\n",
      "\n",
      "Confusion Matrix:\n",
      " [[953 514]\n",
      " [288 244]]\n",
      "\n",
      "Precision: 0.32189973614775724\n",
      "Recall: 0.45864661654135336\n",
      "F1 Score: 0.3782945736434109\n",
      "---------------------------\n",
      "\n",
      "The best model is: SVM with F1 Score: 0.4071\n"
     ]
    }
   ],
   "source": [
    "results = {}\n",
    "for name, (model, X_train_model, X_test_model) in models.items():\n",
    "    model.fit(X_train_model, y_train_resampled)  \n",
    "    y_pred = model.predict(X_test_model)\n",
    "    \n",
    "    conf_mat = confusion_matrix(y_test, y_pred)\n",
    "    precision = precision_score(y_test, y_pred)\n",
    "    recall = recall_score(y_test, y_pred)\n",
    "    f1 = f1_score(y_test, y_pred)\n",
    "    \n",
    "    results[name] = [precision, recall, f1]\n",
    "    \n",
    "    print(f\"Results for {name}:\\n\")\n",
    "    print(\"Confusion Matrix:\\n\", conf_mat)\n",
    "    print(\"\\nPrecision:\", precision)\n",
    "    print(\"Recall:\", recall)\n",
    "    print(\"F1 Score:\", f1)\n",
    "    print(\"---------------------------\\n\")\n",
    "\n",
    "# Select model based on F1 score\n",
    "best_model_name = max(results, key=lambda k: results[k][2])\n",
    "best_model, _, _ = models[best_model_name]\n",
    "print(f\"The best model is: {best_model_name} with F1 Score: {results[best_model_name][2]:.4f}\")"
   ]
  },
  {
   "cell_type": "markdown",
   "id": "6612e381",
   "metadata": {},
   "source": [
    "##### Train and Evaluate - unseen data"
   ]
  },
  {
   "cell_type": "code",
   "execution_count": 36,
   "id": "423d6de3",
   "metadata": {},
   "outputs": [
    {
     "name": "stdout",
     "output_type": "stream",
     "text": [
      "Results for Logistic Regression:\n",
      "\n",
      "F1 Score: 0.4011544011544012\n",
      "---------------------------\n",
      "\n",
      "Results for Random Forest:\n",
      "\n",
      "F1 Score: 0.321626617375231\n",
      "---------------------------\n",
      "\n",
      "Results for SVM:\n",
      "\n",
      "F1 Score: 0.39999999999999997\n",
      "---------------------------\n",
      "\n",
      "Results for Gradient Boosted Trees (XGBoost):\n",
      "\n",
      "F1 Score: 0.37481698389458273\n",
      "---------------------------\n",
      "\n",
      "Results for Gradient Boosted Trees (LightGBM):\n",
      "\n",
      "F1 Score: 0.37410071942446044\n",
      "---------------------------\n",
      "\n",
      "Results for Gradient Boosted Trees (CatBoost):\n",
      "\n",
      "F1 Score: 0.3806734992679356\n",
      "---------------------------\n",
      "\n",
      "The best model is: Logistic Regression with F1 Score: 0.4012\n"
     ]
    }
   ],
   "source": [
    "# Assuming df is the dataframe from training.csv\n",
    "train_df, valid_df = train_test_split(df_train, test_size=1000, random_state=42)\n",
    "\n",
    "X_train_full = train_df.drop(columns=['InPlay'])\n",
    "y_train_full = train_df['InPlay']\n",
    "\n",
    "X_valid = valid_df.drop(columns=['InPlay'])\n",
    "y_valid = valid_df['InPlay']\n",
    "\n",
    "# Handle missing values: We'll drop rows with missing values for the training data\n",
    "X_train_full.dropna(inplace=True)\n",
    "y_train_full = y_train_full[X_train_full.index]\n",
    "\n",
    "# Normalize the data: Using only the training data to fit the scaler\n",
    "scaler = StandardScaler()\n",
    "X_train_normalized = scaler.fit_transform(X_train_full)\n",
    "X_valid_normalized = scaler.transform(X_valid)\n",
    "\n",
    "# Apply SMOTE to the training data\n",
    "smote = SMOTE(random_state=42)\n",
    "X_train_resampled, y_train_resampled = smote.fit_resample(X_train_normalized, y_train_full)\n",
    "\n",
    "models = {\n",
    "    'Logistic Regression': (LogisticRegression(max_iter=1000), X_train_resampled, X_valid_normalized),\n",
    "    'Random Forest': (RandomForestClassifier(), X_train_resampled, X_valid_normalized),\n",
    "    'SVM': (SVC(probability=True), X_train_resampled, X_valid_normalized),\n",
    "    'Gradient Boosted Trees (XGBoost)': (xgb.XGBClassifier(), X_train_resampled, X_valid_normalized),\n",
    "    'Gradient Boosted Trees (LightGBM)': (lgb.LGBMClassifier(), X_train_resampled, X_valid_normalized),\n",
    "    'Gradient Boosted Trees (CatBoost)': (CatBoostClassifier(silent=True), X_train_resampled, X_valid_normalized)\n",
    "}\n",
    "\n",
    "# Train and evaluate models using F1 score\n",
    "results = {}\n",
    "for name, (model, X_train_model, X_test_model) in models.items():\n",
    "    model.fit(X_train_model, y_train_resampled)  \n",
    "    y_pred = model.predict(X_valid_normalized)\n",
    "    \n",
    "    f1 = f1_score(y_valid, y_pred)\n",
    "    results[name] = f1\n",
    "    \n",
    "    print(f\"Results for {name}:\\n\")\n",
    "    print(\"F1 Score:\", f1)\n",
    "    print(\"---------------------------\\n\")\n",
    "\n",
    "# Select the best model based on F1 score\n",
    "best_model_name = max(results, key=results.get)\n",
    "best_model, _, _ = models[best_model_name]\n",
    "print(f\"The best model is: {best_model_name} with F1 Score: {results[best_model_name]:.4f}\")"
   ]
  },
  {
   "cell_type": "code",
   "execution_count": 37,
   "id": "ed4ef88a",
   "metadata": {},
   "outputs": [
    {
     "data": {
      "text/html": [
       "<style>#sk-container-id-1 {color: black;}#sk-container-id-1 pre{padding: 0;}#sk-container-id-1 div.sk-toggleable {background-color: white;}#sk-container-id-1 label.sk-toggleable__label {cursor: pointer;display: block;width: 100%;margin-bottom: 0;padding: 0.3em;box-sizing: border-box;text-align: center;}#sk-container-id-1 label.sk-toggleable__label-arrow:before {content: \"▸\";float: left;margin-right: 0.25em;color: #696969;}#sk-container-id-1 label.sk-toggleable__label-arrow:hover:before {color: black;}#sk-container-id-1 div.sk-estimator:hover label.sk-toggleable__label-arrow:before {color: black;}#sk-container-id-1 div.sk-toggleable__content {max-height: 0;max-width: 0;overflow: hidden;text-align: left;background-color: #f0f8ff;}#sk-container-id-1 div.sk-toggleable__content pre {margin: 0.2em;color: black;border-radius: 0.25em;background-color: #f0f8ff;}#sk-container-id-1 input.sk-toggleable__control:checked~div.sk-toggleable__content {max-height: 200px;max-width: 100%;overflow: auto;}#sk-container-id-1 input.sk-toggleable__control:checked~label.sk-toggleable__label-arrow:before {content: \"▾\";}#sk-container-id-1 div.sk-estimator input.sk-toggleable__control:checked~label.sk-toggleable__label {background-color: #d4ebff;}#sk-container-id-1 div.sk-label input.sk-toggleable__control:checked~label.sk-toggleable__label {background-color: #d4ebff;}#sk-container-id-1 input.sk-hidden--visually {border: 0;clip: rect(1px 1px 1px 1px);clip: rect(1px, 1px, 1px, 1px);height: 1px;margin: -1px;overflow: hidden;padding: 0;position: absolute;width: 1px;}#sk-container-id-1 div.sk-estimator {font-family: monospace;background-color: #f0f8ff;border: 1px dotted black;border-radius: 0.25em;box-sizing: border-box;margin-bottom: 0.5em;}#sk-container-id-1 div.sk-estimator:hover {background-color: #d4ebff;}#sk-container-id-1 div.sk-parallel-item::after {content: \"\";width: 100%;border-bottom: 1px solid gray;flex-grow: 1;}#sk-container-id-1 div.sk-label:hover label.sk-toggleable__label {background-color: #d4ebff;}#sk-container-id-1 div.sk-serial::before {content: \"\";position: absolute;border-left: 1px solid gray;box-sizing: border-box;top: 0;bottom: 0;left: 50%;z-index: 0;}#sk-container-id-1 div.sk-serial {display: flex;flex-direction: column;align-items: center;background-color: white;padding-right: 0.2em;padding-left: 0.2em;position: relative;}#sk-container-id-1 div.sk-item {position: relative;z-index: 1;}#sk-container-id-1 div.sk-parallel {display: flex;align-items: stretch;justify-content: center;background-color: white;position: relative;}#sk-container-id-1 div.sk-item::before, #sk-container-id-1 div.sk-parallel-item::before {content: \"\";position: absolute;border-left: 1px solid gray;box-sizing: border-box;top: 0;bottom: 0;left: 50%;z-index: -1;}#sk-container-id-1 div.sk-parallel-item {display: flex;flex-direction: column;z-index: 1;position: relative;background-color: white;}#sk-container-id-1 div.sk-parallel-item:first-child::after {align-self: flex-end;width: 50%;}#sk-container-id-1 div.sk-parallel-item:last-child::after {align-self: flex-start;width: 50%;}#sk-container-id-1 div.sk-parallel-item:only-child::after {width: 0;}#sk-container-id-1 div.sk-dashed-wrapped {border: 1px dashed gray;margin: 0 0.4em 0.5em 0.4em;box-sizing: border-box;padding-bottom: 0.4em;background-color: white;}#sk-container-id-1 div.sk-label label {font-family: monospace;font-weight: bold;display: inline-block;line-height: 1.2em;}#sk-container-id-1 div.sk-label-container {text-align: center;}#sk-container-id-1 div.sk-container {/* jupyter's `normalize.less` sets `[hidden] { display: none; }` but bootstrap.min.css set `[hidden] { display: none !important; }` so we also need the `!important` here to be able to override the default hidden behavior on the sphinx rendered scikit-learn.org. See: https://github.com/scikit-learn/scikit-learn/issues/21755 */display: inline-block !important;position: relative;}#sk-container-id-1 div.sk-text-repr-fallback {display: none;}</style><div id=\"sk-container-id-1\" class=\"sk-top-container\"><div class=\"sk-text-repr-fallback\"><pre>LogisticRegression(max_iter=1000)</pre><b>In a Jupyter environment, please rerun this cell to show the HTML representation or trust the notebook. <br />On GitHub, the HTML representation is unable to render, please try loading this page with nbviewer.org.</b></div><div class=\"sk-container\" hidden><div class=\"sk-item\"><div class=\"sk-estimator sk-toggleable\"><input class=\"sk-toggleable__control sk-hidden--visually\" id=\"sk-estimator-id-1\" type=\"checkbox\" checked><label for=\"sk-estimator-id-1\" class=\"sk-toggleable__label sk-toggleable__label-arrow\">LogisticRegression</label><div class=\"sk-toggleable__content\"><pre>LogisticRegression(max_iter=1000)</pre></div></div></div></div></div>"
      ],
      "text/plain": [
       "LogisticRegression(max_iter=1000)"
      ]
     },
     "execution_count": 37,
     "metadata": {},
     "output_type": "execute_result"
    }
   ],
   "source": [
    "best_model"
   ]
  },
  {
   "cell_type": "markdown",
   "id": "f446b921",
   "metadata": {},
   "source": [
    "Logistic regression performs relatively well and is easier to interpret than SVM. Interpretability is important in this case."
   ]
  },
  {
   "cell_type": "markdown",
   "id": "27ccb887",
   "metadata": {},
   "source": [
    "##### Predictions - deploy.csv"
   ]
  },
  {
   "cell_type": "code",
   "execution_count": 50,
   "id": "76416df8",
   "metadata": {},
   "outputs": [
    {
     "name": "stdout",
     "output_type": "stream",
     "text": [
      "\n",
      "There are missing values in the dataset.\n"
     ]
    }
   ],
   "source": [
    "df_deploy = pd.read_csv('deploy.csv')\n",
    "# Check if there are any missing values in the entire dataset\n",
    "if df_deploy.isnull().any().any():\n",
    "    print(\"\\nThere are missing values in the dataset.\")\n",
    "else:\n",
    "    print(\"\\nThere are no missing values in the dataset.\")"
   ]
  },
  {
   "cell_type": "code",
   "execution_count": 51,
   "id": "436cc5b3",
   "metadata": {},
   "outputs": [
    {
     "name": "stdout",
     "output_type": "stream",
     "text": [
      "Number of missing values in each column:\n",
      "Velo                 0\n",
      "SpinRate            13\n",
      "HorzBreak            0\n",
      "InducedVertBreak     0\n",
      "dtype: int64\n"
     ]
    }
   ],
   "source": [
    "# Check for missing values in each column\n",
    "missing_values = df_deploy.isnull().sum()\n",
    "\n",
    "print(\"Number of missing values in each column:\")\n",
    "print(missing_values)"
   ]
  },
  {
   "cell_type": "code",
   "execution_count": 52,
   "id": "4c49ceda",
   "metadata": {},
   "outputs": [
    {
     "name": "stdout",
     "output_type": "stream",
     "text": [
      "There are 10000 rows in the deploy.csv file.\n"
     ]
    }
   ],
   "source": [
    "# Print the number of rows\n",
    "print(f\"There are {len(df_deploy)} rows in the deploy.csv file.\")"
   ]
  },
  {
   "cell_type": "code",
   "execution_count": 53,
   "id": "a852985d",
   "metadata": {},
   "outputs": [
    {
     "name": "stdout",
     "output_type": "stream",
     "text": [
      "13 rows have been removed due to missing values.\n"
     ]
    }
   ],
   "source": [
    "# Store the initial number of rows\n",
    "initial_row_count = len(df_deploy)\n",
    "\n",
    "# Remove rows with missing values\n",
    "df_deploy_clean = df_deploy.dropna()\n",
    "\n",
    "# Calculate how many rows have been removed\n",
    "rows_removed = initial_row_count - len(df_deploy_clean)\n",
    "\n",
    "print(f\"{rows_removed} rows have been removed due to missing values.\")"
   ]
  },
  {
   "cell_type": "code",
   "execution_count": 54,
   "id": "6d4339c3",
   "metadata": {},
   "outputs": [
    {
     "name": "stderr",
     "output_type": "stream",
     "text": [
      "/var/folders/cd/gvg_67zx2738_ly3ks6gkrhc0000gn/T/ipykernel_3631/2839142364.py:7: SettingWithCopyWarning: \n",
      "A value is trying to be set on a copy of a slice from a DataFrame.\n",
      "Try using .loc[row_indexer,col_indexer] = value instead\n",
      "\n",
      "See the caveats in the documentation: https://pandas.pydata.org/pandas-docs/stable/user_guide/indexing.html#returning-a-view-versus-a-copy\n",
      "  df_deploy_clean.loc[:, 'PredictedProb'] = predicted_probs\n"
     ]
    }
   ],
   "source": [
    "# Predict the chance of each pitch in the “deploy.csv” file being put in play\n",
    "X_deploy = df_deploy_clean.copy()\n",
    "X_deploy_normalized = scaler.transform(X_deploy)\n",
    "predicted_probs = best_model.predict_proba(X_deploy_normalized)[:, 1]\n",
    "\n",
    "# Append the predicted probabilities to the original deploy.csv\n",
    "df_deploy_clean.loc[:, 'PredictedProb'] = predicted_probs\n",
    "\n",
    "# Save the updated DataFrame back to deploy.csv\n",
    "df_deploy_clean.to_csv('deploy_with_probs.csv', index=False)"
   ]
  },
  {
   "cell_type": "markdown",
   "id": "121ca451",
   "metadata": {},
   "source": [
    "##### LR Visuals"
   ]
  },
  {
   "cell_type": "code",
   "execution_count": 46,
   "id": "478521c5",
   "metadata": {},
   "outputs": [
    {
     "data": {
      "image/png": "[encoded data removed]",
      "text/plain": [
       "<Figure size 1200x800 with 1 Axes>"
      ]
     },
     "metadata": {},
     "output_type": "display_data"
    }
   ],
   "source": [
    "# Get feature names and coefficients\n",
    "feature_names = X_train_full.columns\n",
    "coefficients = best_model.coef_[0]\n",
    "\n",
    "# Sort the features by their importance (absolute value of coefficient)\n",
    "sorted_indices = [index for index, _ in sorted(enumerate(coefficients), key=lambda x: -abs(x[1]))]\n",
    "\n",
    "plt.figure(figsize=(12, 8))\n",
    "plt.barh(range(len(feature_names)), coefficients[sorted_indices])\n",
    "plt.yticks(range(len(feature_names)), [feature_names[i] for i in sorted_indices])\n",
    "plt.xlabel('Coefficient Value')\n",
    "plt.ylabel('Feature Name')\n",
    "plt.title('Feature Importances in Logistic Regression')\n",
    "plt.grid(axis='x')\n",
    "plt.tight_layout()\n",
    "plt.show()"
   ]
  },
  {
   "cell_type": "markdown",
   "id": "47e336b1",
   "metadata": {},
   "source": [
    "Written Answers:"
   ]
  },
  {
   "cell_type": "markdown",
   "id": "884c95d5",
   "metadata": {},
   "source": [
    "2) The first step in cleaning the data was to check for any missing values, since this was not severe I decided to delete the rows where the spin rate was missing. I decided to use SMOTE for addressing the class imbalance, since this is the best technique I have used for oversampling. I decided to normalize the data since the scales were quite different between features. Using the standard scaler is a good approach to solving this. I decided to use 5 commonly used models, 3 of them boosting which typically perform well. I used a few different approaches for evaluating these models, for the sake of not just using one method. However, F1 Score is what I would rely on the most from my experience. I also trust testing the models on \"unseen\" data since this is more of a realistic evaluation. To do this, I just randomly sample 1,000 rows from the training data. I used this approach for determining the final model (Logistic Regression) even though SVM seemed to have been the best model from the previous two approaches. "
   ]
  },
  {
   "cell_type": "markdown",
   "id": "915909a1",
   "metadata": {},
   "source": [
    "3) Above is a plot that shows how the 4 variables affect the batters ability to put the ball in play. The velocity, induced vertical break, and spin rate negatively affect the batters ability to the put the ball in play while the horizontal break has a positive affect. The induced vertical break has the greatest negative affect, so it may be best to focus on pitches that start low and end high, or travel on an upward slant trajectory. "
   ]
  },
  {
   "cell_type": "markdown",
   "id": "d0e40710",
   "metadata": {},
   "source": [
    "4) The modeling process above was simple and straigh5t forward due to the time constraint. Throughout the modeling process, I would do a number of steps given some more time such as feature engineering, hyperparameter tuning, using all suitable models for binary classification, using more data if available, as well as using more visuals and exploring/ researching other methods for evaluating the models. I would also consider other methods for addressing the class imbalance other than synthetic sampling. Oversampling is probably most common but I could consider under sampling as well. "
   ]
  },
  {
   "cell_type": "code",
   "execution_count": null,
   "id": "c1c18e03",
   "metadata": {},
   "outputs": [],
   "source": []
  }
 ],
 "metadata": {
  "kernelspec": {
   "display_name": "Python 3 (ipykernel)",
   "language": "python",
   "name": "python3"
  },
  "language_info": {
   "codemirror_mode": {
    "name": "ipython",
    "version": 3
   },
   "file_extension": ".py",
   "mimetype": "text/x-python",
   "name": "python",
   "nbconvert_exporter": "python",
   "pygments_lexer": "ipython3",
   "version": "3.11.0"
  }
 },
 "nbformat": 4,
 "nbformat_minor": 5
}
